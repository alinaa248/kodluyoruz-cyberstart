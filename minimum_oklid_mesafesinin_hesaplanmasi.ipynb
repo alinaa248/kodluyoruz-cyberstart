{
  "nbformat": 4,
  "nbformat_minor": 0,
  "metadata": {
    "colab": {
      "provenance": [],
      "authorship_tag": "ABX9TyN/+kXfO3S9O6dt5LW0us6x",
      "include_colab_link": true
    },
    "kernelspec": {
      "name": "python3",
      "display_name": "Python 3"
    },
    "language_info": {
      "name": "python"
    }
  },
  "cells": [
    {
      "cell_type": "markdown",
      "metadata": {
        "id": "view-in-github",
        "colab_type": "text"
      },
      "source": [
        "<a href=\"https://colab.research.google.com/github/alinaa248/kodluyoruz-cyberstart/blob/main/minimum_oklid_mesafesinin_hesaplanmasi.ipynb\" target=\"_parent\"><img src=\"https://colab.research.google.com/assets/colab-badge.svg\" alt=\"Open In Colab\"/></a>"
      ]
    },
    {
      "cell_type": "code",
      "source": [
        "#Noktaların Tanımlanması\n",
        "points = [(1, 2), (3, 5), (4, 6), (7, 8), (9, 10)]"
      ],
      "metadata": {
        "id": "XP-3VocTV1z6"
      },
      "execution_count": null,
      "outputs": []
    },
    {
      "cell_type": "code",
      "source": [
        "#Öklid Mesafesi İçin Bir Fonksiyon Yazma\n",
        "def euclideanDistance(point1, point2):\n",
        "  return ((point2[0] - point1[0])**2 + (point2[1] - point1[1])**2)**(1/2)\n"
      ],
      "metadata": {
        "id": "cMrCNVgdYjYY"
      },
      "execution_count": null,
      "outputs": []
    },
    {
      "cell_type": "code",
      "source": [
        "#Mesafelerin Hesaplanması\n",
        "distances = []\n",
        "for i in range(len(points)):\n",
        "  for j in range(i + 1, len(points)):\n",
        "   dist = euclideanDistance(points[i], points[j])\n",
        "   distances.append(dist)\n",
        "#Hesaplanan Mesafeler\n",
        "print(\"Hesaplanan Mesafeler: \", distances)"
      ],
      "metadata": {
        "colab": {
          "base_uri": "https://localhost:8080/"
        },
        "id": "0IECb5SWcwHU",
        "outputId": "0639c8df-ac44-4280-9b8a-aa4984363c1d"
      },
      "execution_count": null,
      "outputs": [
        {
          "output_type": "stream",
          "name": "stdout",
          "text": [
            "Hesaplanan Mesafeler:  [3.605551275463989, 5.0, 8.48528137423857, 11.313708498984761, 1.4142135623730951, 5.0, 7.810249675906654, 3.605551275463989, 6.4031242374328485, 2.8284271247461903]\n"
          ]
        }
      ]
    },
    {
      "cell_type": "code",
      "source": [
        "#Minimum Mesafenin Bulunması\n",
        "print(\"Minimum mesafe: \", min(distances))"
      ],
      "metadata": {
        "colab": {
          "base_uri": "https://localhost:8080/"
        },
        "id": "p-_ton87mg96",
        "outputId": "5ab53a2f-1404-4f89-c25d-54c6d543b57e"
      },
      "execution_count": null,
      "outputs": [
        {
          "output_type": "stream",
          "name": "stdout",
          "text": [
            "Minimum mesafe:  1.4142135623730951\n"
          ]
        }
      ]
    }
  ]
}